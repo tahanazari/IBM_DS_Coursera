{
 "cells": [
  {
   "cell_type": "markdown",
   "metadata": {},
   "source": [
    "<center>\n",
    "    <img src=\"https://cf-courses-data.s3.us.cloud-object-storage.appdomain.cloud/IBMDeveloperSkillsNetwork-DS0105EN-SkillsNetwork/labs/Module2/images/SN_web_lightmode.png\" width=\"300\" alt=\"cognitiveclass.ai logo\">\n",
    "</center>\n"
   ]
  },
  {
   "cell_type": "markdown",
   "metadata": {},
   "source": [
    "#### Add your code below following the instructions given in the course\n"
   ]
  },
  {
   "cell_type": "markdown",
   "metadata": {
    "tags": []
   },
   "source": [
    "# Data Science Tools and Ecosystem"
   ]
  },
  {
   "cell_type": "markdown",
   "metadata": {},
   "source": [
    "In this notebook, Data Science Tools and Ecosystem are summarized."
   ]
  },
  {
   "cell_type": "markdown",
   "metadata": {},
   "source": [
    "**Objectives:**\n",
    "- List popular languages used in Data Science.\n",
    "- List some of the commonly used libraries used for Data Science.\n",
    "- Creating a table using Markdown syntax.\n",
    "- Organizing popular open source Data Science environments in a table.\n",
    "- Providing few examples of simple arithmetic expressions in Python, such as multiplication, addition, and division."
   ]
  },
  {
   "cell_type": "markdown",
   "metadata": {},
   "source": [
    "Some of the popular languages that Data Scientists use are:\n",
    "1. **Python**: Python is one of the most popular programming languages used for data science. It has an ecosystem of libraries and frameworks such as `NumPy`, `Pandas`, `Matplotlib`, `Seaborn`, `scikit-learn`, `TensorFlow`, and `PyTorch`, making it versatile for data manipulation, analysis, and machine learning.\n",
    "2. **R**: R is a statistical programming language that is widely used for data analysis and visualization. It has a strong community in the statistics and data science domains, and it's particularly popular in academia.\n",
    "3. **Java**: Java is used in big data processing and analytics, especially with Apache Hadoop and Apache Spark. It's known for its scalability and performance.\n",
    "4. **SQL**: Structured Query Language (*SQL*) is essential for working with relational databases. Data scientists often use SQL to query databases and extract relevant information for analysis.\n",
    "5. **Julia**: Julia is gaining popularity in the data science community for its performance in numerical and scientific computing. It's designed to be fast and efficient, making it suitable for data-intensive tasks.\n",
    "6. **Scala**: Scala is a programming language that is compatible with Java and often used in conjunction with Apache Spark for distributed data processing."
   ]
  },
  {
   "cell_type": "markdown",
   "metadata": {},
   "source": [
    "Some of the commonly used libraries used by Data Scientists include:\n",
    "1. **Tidyverse**: A collection of R packages, including `dplyr`, `ggplot2`, `tidyr`, and others, designed to work together for data manipulation, analysis, and visualization.\n",
    "2. **dplyr**: A package for data manipulation that provides a set of functions for filtering, summarizing, and arranging data in R.\n",
    "2. **ggplot2**: A package for creating static, interactive, and dynamic data visualizations in R.\n",
    "3. **tidyr**: A package for tidying and reshaping data, providing functions for dealing with missing values and transforming data between wide and long formats.\n",
    "4. **caret**: The Classification and Regression Training package provides an interface for training and evaluating machine learning models in R."
   ]
  },
  {
   "cell_type": "markdown",
   "metadata": {},
   "source": [
    "| Data Science Tools |\n",
    "----------------------\n",
    "| Jupyter Notebooks |\n",
    "| R Studio |\n",
    "| VS Code |"
   ]
  },
  {
   "cell_type": "markdown",
   "metadata": {},
   "source": [
    "### Below are a few examples of evaluating arithmetic expressions in Python"
   ]
  },
  {
   "cell_type": "code",
   "execution_count": 1,
   "metadata": {
    "tags": []
   },
   "outputs": [
    {
     "data": {
      "text/plain": [
       "17"
      ]
     },
     "execution_count": 1,
     "metadata": {},
     "output_type": "execute_result"
    }
   ],
   "source": [
    "# This is a simple arithmetic expression to multiply the nadd integers:\n",
    "(3*4)+5"
   ]
  },
  {
   "cell_type": "code",
   "execution_count": 2,
   "metadata": {
    "tags": []
   },
   "outputs": [
    {
     "data": {
      "text/plain": [
       "3.3333333333333335"
      ]
     },
     "execution_count": 2,
     "metadata": {},
     "output_type": "execute_result"
    }
   ],
   "source": [
    "# This will convert 200 minutes to hours by diving by 60:\n",
    "200/60"
   ]
  },
  {
   "cell_type": "markdown",
   "metadata": {},
   "source": [
    "## Author\n",
    "Taha Ebrahimnazari"
   ]
  }
 ],
 "metadata": {
  "kernelspec": {
   "display_name": "Python",
   "language": "python",
   "name": "conda-env-python-py"
  },
  "language_info": {
   "codemirror_mode": {
    "name": "ipython",
    "version": 3
   },
   "file_extension": ".py",
   "mimetype": "text/x-python",
   "name": "python",
   "nbconvert_exporter": "python",
   "pygments_lexer": "ipython3",
   "version": "3.7.12"
  }
 },
 "nbformat": 4,
 "nbformat_minor": 4
}
